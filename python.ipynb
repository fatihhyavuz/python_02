{
 "cells": [
  {
   "cell_type": "code",
   "execution_count": 3,
   "metadata": {},
   "outputs": [
    {
     "name": "stdout",
     "output_type": "stream",
     "text": [
      "Evet\n"
     ]
    }
   ],
   "source": [
    "num = input(\"Bir sayı giriniz: \")\n",
    "\n",
    "def new(x):\n",
    "    if not x.isdigit():\n",
    "        print(\"Lütfen bir tam sayı giriniz.\")\n",
    "        return\n",
    "\n",
    "    x = int(x)  # Kullanıcı girişini bir tamsayıya dönüştürüyoruz.\n",
    "\n",
    "    if x % 7 == 0:  # Girilen sayının 7'ye bölünüp bölünmediğini kontrol ediyoruz.\n",
    "        print(\"Evet\")\n",
    "    else:\n",
    "        print(\"Hayır\")\n",
    "\n",
    "new(num)"
   ]
  },
  {
   "cell_type": "code",
   "execution_count": 5,
   "metadata": {},
   "outputs": [],
   "source": [
    "x = input(\"bir sayi giriniz\")\n",
    "def fon(x):\n",
    "    if not x.isdigit == False: \n",
    "        print(\"lutfen tam sayi giriniz\")\n",
    "        return x "
   ]
  }
 ],
 "metadata": {
  "kernelspec": {
   "display_name": "Python 3",
   "language": "python",
   "name": "python3"
  },
  "language_info": {
   "codemirror_mode": {
    "name": "ipython",
    "version": 3
   },
   "file_extension": ".py",
   "mimetype": "text/x-python",
   "name": "python",
   "nbconvert_exporter": "python",
   "pygments_lexer": "ipython3",
   "version": "3.12.3"
  }
 },
 "nbformat": 4,
 "nbformat_minor": 2
}
