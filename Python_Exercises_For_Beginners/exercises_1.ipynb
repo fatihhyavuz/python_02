{
 "cells": [
  {
   "cell_type": "markdown",
   "metadata": {},
   "source": [
    "exercises01\n",
    "\"Write a Python code for a guessing game where the computer selects a random number and the user tries to guess it. After each guess, the user should receive feedback on whether the correct number is higher or lower. The user should be given a total of 15 guesses. The game should end either when the user correctly guesses the number or when they exhaust all their guesses, at which point the results should be displayed to the user.\""
   ]
  },
  {
   "cell_type": "code",
   "execution_count": null,
   "metadata": {},
   "outputs": [],
   "source": [
    "import random as rd\n",
    "\n",
    "sayi = rd.randint(1,100)\n",
    "\n",
    "hak = 15\n",
    "\n",
    "while hak > 0:\n",
    "    tahmin = int(input(\"tahmininiz: \"))\n",
    "    hak -= 1\n",
    "    if tahmin == sayi:\n",
    "        print(\"tebrikler dogru bldiniz\")\n",
    "        break\n",
    "    elif hak == 0 :\n",
    "        print(\"hakkiniz  bitti dogru sayi:\" + str(sayi))\n",
    "        break \n",
    "    elif tahmin > sayi :\n",
    "        print(\"assagi in \")\n",
    "        continue\n",
    "    elif tahmin < sayi :\n",
    "        print(\"yukari cik \")"
   ]
  }
 ],
 "metadata": {
  "language_info": {
   "name": "python"
  }
 },
 "nbformat": 4,
 "nbformat_minor": 2
}
