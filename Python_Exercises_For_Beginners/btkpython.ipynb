{
 "cells": [
  {
   "cell_type": "code",
   "execution_count": 3,
   "metadata": {},
   "outputs": [
    {
     "name": "stdout",
     "output_type": "stream",
     "text": [
      "my name is fatih yavuzi am 20\n",
      "my name is fatih yavuz\n"
     ]
    }
   ],
   "source": [
    "name = 'fatih' \n",
    "surname = 'yavuz'\n",
    "age = 20 \n",
    "\n",
    "print(\"my name is \" + name + \" \"+ surname + \"i am \" + str(age) )\n",
    "print('my name is {} {}' .format(name, surname))\n",
    "\n"
   ]
  }
 ],
 "metadata": {
  "kernelspec": {
   "display_name": "Python 3",
   "language": "python",
   "name": "python3"
  },
  "language_info": {
   "codemirror_mode": {
    "name": "ipython",
    "version": 3
   },
   "file_extension": ".py",
   "mimetype": "text/x-python",
   "name": "python",
   "nbconvert_exporter": "python",
   "pygments_lexer": "ipython3",
   "version": "3.12.3"
  }
 },
 "nbformat": 4,
 "nbformat_minor": 2
}
