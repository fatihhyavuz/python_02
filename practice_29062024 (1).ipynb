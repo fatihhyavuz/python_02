{
 "cells": [
  {
   "cell_type": "markdown",
   "metadata": {},
   "source": [
    "**1. Kişisel Görev Yöneticisi:** Kullanıcıların kişisel görev listelerini oluşturmasına, görev eklemesine, silmesine ve güncellemesine izin veren bir uygulama. Kullanıcılar görevleri listeye ekleyebilir, tamamlandıklarında listeden kaldırabilir veya görevlerin öncelik sırasını değiştirebilir."
   ]
  },
  {
   "cell_type": "code",
   "execution_count": null,
   "metadata": {},
   "outputs": [],
   "source": []
  },
  {
   "cell_type": "markdown",
   "metadata": {},
   "source": [
    "**2. Sınav/Ödev Takip Uygulaması:** Öğrencilerin sınav tarihlerini, ödevlerini ve projelerini listelemesine ve takip etmesine olanak tanıyan bir uygulama. Öğrenciler, sınavları ve ödevleri listeye ekleyebilir, son teslim tarihlerini belirleyebilir ve tamamlandıkça işaretleyebilir."
   ]
  },
  {
   "cell_type": "code",
   "execution_count": null,
   "metadata": {},
   "outputs": [],
   "source": []
  },
  {
   "cell_type": "markdown",
   "metadata": {},
   "source": [
    "**3. Öğrenci Başarı Takip Sistemi:**\n",
    "\n",
    "Bir okul yönetimi, öğrencilerin ders başarılarını izlemek ve kaydetmek için bir sistem oluşturmak istiyor. Bu sistem, öğrencilerin aldıkları dersleri ve bu derslerde elde ettikleri notları saklayacak.\n",
    "\n",
    "Her öğrenci için, hangi dersi aldıkları ve bu derslerde aldıkları notlar sisteme tuple'lar aracılığıyla kaydedilecek. Örneğin, bir öğrencinin \"Matematik\" dersinden 85, \"Biyoloji\" dersinden ise 70 aldığı kaydedilecek.\n",
    "\n",
    "Bu sistem, öğrencilerin akademik performansını değerlendirmek, öğretmenlerin öğrenci başarılarını izlemek ve gerekli durumlarda öğrencilere yardımcı olmak için kullanılabilir. Ayrıca, dönem sonlarında sınıf geçme durumunu belirlemek ve öğrencilere rehberlik hizmetleri sağlamak için de kullanılabilir."
   ]
  },
  {
   "cell_type": "code",
   "execution_count": null,
   "metadata": {},
   "outputs": [],
   "source": []
  },
  {
   "cell_type": "markdown",
   "metadata": {},
   "source": [
    "**4. Coğrafi Konum Bilgileri:** Bir harita uygulaması, kullanıcıların sık kullandıkları ve kaydetmek istedikleri konumları yönetmelerine olanak tanıyan bir sistem geliştirmek istiyor. Bu sistem, kullanıcıların belirli konumları adları ve koordinatlarıyla birlikte kaydedebilmesini sağlayacak.\n",
    "\n",
    "Örneğin, bir kullanıcı evinin ve iş yerinin konumlarını kaydetmek isteyebilir. Bu durumda, kullanıcı \"Ev\" ve \"İş\" isimleriyle birlikte bu konumların enlem ve boylam koordinatlarını sisteme girecek. Konum bilgileri tuple veri yapısı kullanılarak saklanacaktır. Örnek olarak, (\"Ev\", (40.7128, -74.0060)) ve (\"İş\", (51.5074, -0.1278)) gibi tuple'lar kullanılacaktır.\n",
    "\n",
    "Bu sistem aşağıdaki durumlara çözüm üretebilmelidir:\n",
    "\n",
    "    Kullanıcıların farklı konumları adları ve koordinatlarıyla birlikte kaydedebilmesi.\n",
    "    Kaydedilmiş konumların adları ve koordinatlarının görüntülenebilmesi.\n",
    "    Gerektiğinde belirli bir konumun güncellenebilmesi (örneğin, iş yerinin adresi değişirse).\n",
    "    İstenilen konumların listeden silinebilmesi.\n",
    "\n",
    "Bu sistem, kullanıcıların günlük hayatlarında önemli yerleri hızlıca bulmalarına, adresleri hatırlamalarına ve ihtiyaç duyduklarında konumlarını kolayca yönetmelerine yardımcı olacaktır."
   ]
  },
  {
   "cell_type": "code",
   "execution_count": null,
   "metadata": {},
   "outputs": [],
   "source": []
  },
  {
   "cell_type": "markdown",
   "metadata": {},
   "source": [
    "**5. Alışveriş Listesi**\n",
    "\n",
    "Senaryo: Bir market alışverişi yapıyorsunuz ve ürünlerin fiyatlarını takip etmek istiyorsunuz.\n",
    "\n",
    "**Talimatlar:**<br>\n",
    "Aşağıdaki gibi bir sözlük oluşturun:\n",
    "\n",
    "```python\n",
    "\n",
    "alisveris_listesi = {\n",
    "    \"elma\": 3.5,\n",
    "    \"ekmek\": 2.0,\n",
    "    \"süt\": 4.0\n",
    "}\n",
    "```\n",
    "\n",
    "* Alışveriş listenize \"yumurta\" ekleyin ve fiyatını 5.0 olarak belirleyin.\n",
    "* \"elma\"nın fiyatını 4.0 olarak güncelleyin.\n",
    "* Alışveriş listenizdeki \"ekmek\" ürününü kaldırın.\n",
    "* Güncellenmiş alışveriş listesini yazdırın."
   ]
  },
  {
   "cell_type": "code",
   "execution_count": null,
   "metadata": {},
   "outputs": [],
   "source": []
  },
  {
   "cell_type": "markdown",
   "metadata": {},
   "source": [
    "**6. Film Listesi**\n",
    "\n",
    "Senaryo: Bir sinema salonu, gösterimde olan filmlerin türlerini ve seans saatlerini takip etmek istiyor.\n",
    "\n",
    "**Talimatlar:**<br>\n",
    "Aşağıdaki gibi bir sözlük oluşturun:\n",
    "\n",
    "```python\n",
    "\n",
    "film_listesi = {\n",
    "    \"Inception\": {\"tur\": \"Bilim Kurgu\", \"seans_saati\": \"15:00\"},\n",
    "    \"The Godfather\": {\"tur\": \"Dram\", \"seans_saati\": \"18:00\"},\n",
    "    \"Pulp Fiction\": {\"tur\": \"Suç\", \"seans_saati\": \"21:00\"}\n",
    "}\n",
    "```\n",
    "\n",
    "* \"Interstellar\" adında yeni bir film ekleyin, türü \"Bilim Kurgu\" ve seans saati 17:00 olarak belirleyin.\n",
    "* \"Inception\" filminin seans saatini 16:00 olarak güncelleyin.\n",
    "* Film \"The Godfather\"ı sözlükten kaldırın.\n",
    "* Güncellenmiş film listesini yazdırın."
   ]
  },
  {
   "cell_type": "code",
   "execution_count": null,
   "metadata": {},
   "outputs": [],
   "source": []
  },
  {
   "cell_type": "markdown",
   "metadata": {},
   "source": [
    "**7. Müşteri Siparişlerini Yönetme**\n",
    "\n",
    "***Sorun İfadesi:***\n",
    "\n",
    "Bir kafede çalışıyorsunuz ve müşteri siparişlerini düzenli bir şekilde takip etmeniz gerekiyor. Her siparişin müşteri adı, sipariş edilen ürün ve ürünün fiyatını içermesi gerekiyor.\n",
    "\n",
    "***Senaryo:***\n",
    "\n",
    "Bir müşteri, üç farklı ürün siparişi veriyor. Bu ürünler arasında kahve, sandviç ve kek bulunuyor. Her ürünün fiyatı farklı ve bu bilgileri saklayarak müşterinin toplam borcunu hesaplamak istiyorsunuz.\n",
    "\n",
    "***Talimatlar:***\n",
    "\n",
    "* Öncelikle, müşteri adı, sipariş edilen ürünler ve bu ürünlerin fiyatlarını içeren bir Python sözlüğü oluşturun. \n",
    "* Ardından, bu bilgileri kullanarak müşterinin toplam borcunu hesaplayın ve ekrana yazdırın."
   ]
  },
  {
   "cell_type": "code",
   "execution_count": null,
   "metadata": {},
   "outputs": [],
   "source": []
  },
  {
   "cell_type": "markdown",
   "metadata": {},
   "source": [
    "**8.\tAnagram Kontrolcü**\n",
    "\n",
    "Sorun: Verilen iki kelimenin birbirinin anagramı olup olmadığını kontrol edin.\n",
    "\n",
    "Görev: İki kelime alın, bu kelimelerin birbirinin anagramı olup olmadığını belirleyin ve sonucu kullanıcıya gösterin.\n",
    "\n",
    "\n",
    "**Not:** Anagram, bir kelimenin veya ifadenin harflerinin sıralanarak başka bir kelime veya ifade oluşturulması işlemidir. Anagram oluştururken her harfin kullanım sıklığı ve kelime veya ifade içindeki yerleşimi korunur, sadece harflerin sırası değişir.\n",
    "\n",
    "\n",
    "Örnek:\n",
    "\n",
    "        \"listen\" kelimesinin anagramı \"silent\"tir.<br>\n",
    "        \"debit card\" ifadesinin anagramı \"bad credit\"tir.<br>\n",
    "        \"astronomer\" kelimesinin anagramı \"moon starer\"tir.<br>\n",
    "\n"
   ]
  },
  {
   "cell_type": "code",
   "execution_count": null,
   "metadata": {},
   "outputs": [],
   "source": []
  },
  {
   "cell_type": "markdown",
   "metadata": {},
   "source": [
    "**9.\tKümelerin Birleşimi**\n",
    "\n",
    "Sorun: İki kümenin birleşimini bulun.\n",
    "\n",
    "Görev: İki küme alın, bu iki kümenin birleşimini bulun ve kullanıcıya gösterin.\n",
    "\n",
    "Örnek: {1, 2, 3} ve {3, 4, 5} -> {1, 2, 3, 4, 5}"
   ]
  },
  {
   "cell_type": "code",
   "execution_count": null,
   "metadata": {},
   "outputs": [],
   "source": []
  },
  {
   "cell_type": "markdown",
   "metadata": {},
   "source": [
    "**10.\tAlt Küme Kontrolcü**\n",
    "\n",
    "Sorun: Bir kümenin diğer bir kümenin alt kümesi olup olmadığını kontrol edin.\n",
    "\n",
    "Görev: İki küme alın, birinin diğerinin alt kümesi olup olmadığını belirleyin ve sonucu kullanıcıya gösterin.\n",
    "\n",
    "Örnek: {1, 2} ve {1, 2, 3, 4} -> True\n"
   ]
  },
  {
   "cell_type": "code",
   "execution_count": null,
   "metadata": {},
   "outputs": [],
   "source": []
  },
  {
   "cell_type": "markdown",
   "metadata": {},
   "source": [
    "**11. Not Defteri Uygulaması:** \n",
    "\n",
    "Kullanıcıların metin notlarını düzenlemesine, saklamasına ve aramasına olanak tanıyan bir uygulama. Kullanıcılar notları listeye ekleyebilir, kategorize edebilir ve anahtar kelimelerle arayabilir."
   ]
  },
  {
   "cell_type": "code",
   "execution_count": null,
   "metadata": {},
   "outputs": [],
   "source": []
  },
  {
   "cell_type": "markdown",
   "metadata": {},
   "source": [
    "**12. Finansal Takip ve Bütçe Yönetimi:** \n",
    "\n",
    "Kişisel finansal verileri saklamak ve yönetmek için listeleri kullanabileceğiniz bir uygulama. Kullanıcılar gelir ve giderleri listeler halinde tutabilir, bütçe hesaplamaları yapabilir ve harcamalarını izleyebilir."
   ]
  },
  {
   "cell_type": "code",
   "execution_count": null,
   "metadata": {},
   "outputs": [],
   "source": []
  },
  {
   "cell_type": "markdown",
   "metadata": {},
   "source": [
    "**13. Online Mağaza Ürün Kataloğu:**\n",
    "\n",
    "Bir online mağaza, müşterilere sunulan ürünlerin kataloğunu yönetmek için bir sistem geliştirmek istiyor. Bu sistem, her bir ürünün adını, fiyatını ve stok durumunu içeren tuple'lar aracılığıyla ürün kataloğunu saklayacak.\n",
    "\n",
    "Her ürün için, adı, fiyatı ve mevcut stok miktarı sisteme tuple olarak kaydedilecek. Örneğin, bir kalem için adı \"Kalem\", fiyatı 2.5 birim para ve stok durumu 100 adet olarak kaydedilecek.\n",
    "\n",
    "Bu sistemde aşağıdaki durumlara da çözüm üretmelidir:\n",
    "\n",
    "1- müşterilerin mağazada sunulan ürünleri görüntülemesine, <br>\n",
    "2- fiyatlarına bakmasına ve <br>\n",
    "3- stok durumunu kontrol etmesine olanak tanımalıdır. <br>\n",
    "4- mağaza yöneticileri için de stok yönetimi ve <br>\n",
    "5- ürünlerin fiyatlarını güncelleme gibi işlemleri yapmalıdır.<br>"
   ]
  },
  {
   "cell_type": "code",
   "execution_count": null,
   "metadata": {},
   "outputs": [],
   "source": []
  }
 ],
 "metadata": {
  "kernelspec": {
   "display_name": "Python 3",
   "language": "python",
   "name": "python3"
  },
  "language_info": {
   "codemirror_mode": {
    "name": "ipython",
    "version": 3
   },
   "file_extension": ".py",
   "mimetype": "text/x-python",
   "name": "python",
   "nbconvert_exporter": "python",
   "pygments_lexer": "ipython3",
   "version": "3.11.4"
  }
 },
 "nbformat": 4,
 "nbformat_minor": 2
}
