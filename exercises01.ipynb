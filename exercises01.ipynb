{
 "cells": [
  {
   "cell_type": "code",
   "execution_count": 1,
   "metadata": {},
   "outputs": [
    {
     "name": "stdout",
     "output_type": "stream",
     "text": [
      "Not weird\n"
     ]
    }
   ],
   "source": [
    "def new(n):\n",
    "    if n % 2 != 0:\n",
    "        print(\"Weird\")\n",
    "    elif n % 2 == 0 and 2 <= n <= 5: \n",
    "        print(\"Not Weird\")\n",
    "    elif n % 2 == 0 and 6 <= n <= 20:\n",
    "        print(\"Weird\")    \n",
    "    elif n % 2 == 0 and n > 20: \n",
    "        print(\"Not weird\")\n",
    "new(24)   "
   ]
  },
  {
   "cell_type": "code",
   "execution_count": null,
   "metadata": {},
   "outputs": [],
   "source": [
    "def metin_isle(metin):\n",
    "    # Metni küçük harfe dönüştürme\n",
    "    metin = metin.lower()\n",
    "    # Boşlukları kaldırma\n",
    "    metin = metin.replace(\" \", \"\")\n",
    "    # Metni tersine çevirme\n",
    "    metin = metin[::-1]\n",
    "    return metin\n",
    "\n",
    "def alfanumerik_mi(metin):\n",
    "    return metin.isalnum()\n",
    "\n",
    "def main():\n",
    "    while True:\n",
    "        kullanici_girdisi = input(\"Metin girin: \")\n",
    "        if alfanumerik_mi(kullanici_girdisi):\n",
    "            islenmis_metin = metin_isle(kullanici_girdisi)\n",
    "            print(f\"İşlenen metin: {islenmis_metin}\")\n",
    "            break\n",
    "        else:\n",
    "            print(\"Hatalı giriş! Lütfen sadece harf ve rakam içeren bir metin girin.\")\n",
    "\n",
    "if __name__ == \"__main__\":\n",
    "    main()"
   ]
  }
 ],
 "metadata": {
  "kernelspec": {
   "display_name": "Python 3",
   "language": "python",
   "name": "python3"
  },
  "language_info": {
   "codemirror_mode": {
    "name": "ipython",
    "version": 3
   },
   "file_extension": ".py",
   "mimetype": "text/x-python",
   "name": "python",
   "nbconvert_exporter": "python",
   "pygments_lexer": "ipython3",
   "version": "3.12.3"
  }
 },
 "nbformat": 4,
 "nbformat_minor": 2
}
